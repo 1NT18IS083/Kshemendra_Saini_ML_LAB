{
 "cells": [
  {
   "cell_type": "code",
   "execution_count": 5,
   "metadata": {},
   "outputs": [],
   "source": [
    "import math"
   ]
  },
  {
   "cell_type": "code",
   "execution_count": 3,
   "metadata": {},
   "outputs": [
    {
     "data": {
      "text/plain": [
       "[[5.9, 3.2],\n",
       " [4.6, 2.9],\n",
       " [6.2, 2.8],\n",
       " [4.7, 3.2],\n",
       " [5.5, 4.2],\n",
       " [5.0, 3.0],\n",
       " [4.9, 3.1],\n",
       " [6.7, 3.1],\n",
       " [5.1, 3.8],\n",
       " [6.0, 3.0]]"
      ]
     },
     "execution_count": 3,
     "metadata": {},
     "output_type": "execute_result"
    }
   ],
   "source": [
    "X = [[5.9,3.2],[4.6,2.9],[6.2,2.8],[4.7,3.2],[5.5,4.2],[5.0,3.0],[4.9,3.1],[6.7,3.1],[5.1,3.8],[6.0,3.0]]\n",
    "X"
   ]
  },
  {
   "cell_type": "code",
   "execution_count": 7,
   "metadata": {},
   "outputs": [
    {
     "data": {
      "text/plain": [
       "<matplotlib.collections.PathCollection at 0x7fbff0128748>"
      ]
     },
     "execution_count": 7,
     "metadata": {},
     "output_type": "execute_result"
    },
    {
     "data": {
      "image/png": "[encoded data removed]",
      "text/plain": [
       "<Figure size 432x288 with 1 Axes>"
      ]
     },
     "metadata": {
      "needs_background": "light"
     },
     "output_type": "display_data"
    }
   ],
   "source": [
    "x,y = zip(*X)\n",
    "plt.scatter(x, y)"
   ]
  },
  {
   "cell_type": "code",
   "execution_count": 9,
   "metadata": {},
   "outputs": [
    {
     "data": {
      "text/plain": [
       "[[6.2, 3.2], [6.6, 3.7], [6.5, 3.0]]"
      ]
     },
     "execution_count": 9,
     "metadata": {},
     "output_type": "execute_result"
    }
   ],
   "source": [
    "centroids = [[6.2, 3.2], [6.6, 3.7], [6.5, 3.0]]\n",
    "centroids"
   ]
  },
  {
   "cell_type": "code",
   "execution_count": 52,
   "metadata": {},
   "outputs": [
    {
     "data": {
      "text/plain": [
       "[0.2999999999999998,\n",
       " 1.6278820596099712,\n",
       " 0.40000000000000036,\n",
       " 1.5,\n",
       " 1.2206555615733703,\n",
       " 1.216552506059644,\n",
       " 1.3038404810405295,\n",
       " 0.5099019513592785,\n",
       " 1.2529964086141672,\n",
       " 0.2828427124746193]"
      ]
     },
     "execution_count": 52,
     "metadata": {},
     "output_type": "execute_result"
    }
   ],
   "source": [
    "cls1=[];\n",
    "for i in range(len(X)):\n",
    "    cls1.append(math.sqrt(((centroids[0][0]-X[i][0])**2)+((centroids[0][1]-X[i][1])**2)))\n",
    "cls1       "
   ]
  },
  {
   "cell_type": "code",
   "execution_count": 54,
   "metadata": {},
   "outputs": [
    {
     "data": {
      "text/plain": [
       "[0.8602325267042621,\n",
       " 2.154065922853802,\n",
       " 0.9848857801796106,\n",
       " 1.9646882704388495,\n",
       " 1.2083045973594568,\n",
       " 1.7464249196572978,\n",
       " 1.802775637731994,\n",
       " 0.6082762530298221,\n",
       " 1.5033296378372907,\n",
       " 0.9219544457292886]"
      ]
     },
     "execution_count": 54,
     "metadata": {},
     "output_type": "execute_result"
    }
   ],
   "source": [
    "cls2=[];\n",
    "for i in range(len(X)):\n",
    "    cls2.append(math.sqrt(((centroids[1][0]-X[i][0])**2)+((centroids[1][1]-X[i][1])**2)))\n",
    "cls2 "
   ]
  },
  {
   "cell_type": "code",
   "execution_count": 56,
   "metadata": {},
   "outputs": [
    {
     "data": {
      "text/plain": [
       "[0.6324555320336757,\n",
       " 1.902629759044045,\n",
       " 0.3605551275463989,\n",
       " 1.8110770276274832,\n",
       " 1.562049935181331,\n",
       " 1.5,\n",
       " 1.6031219541881394,\n",
       " 0.22360679774997916,\n",
       " 1.61245154965971,\n",
       " 0.5]"
      ]
     },
     "execution_count": 56,
     "metadata": {},
     "output_type": "execute_result"
    }
   ],
   "source": [
    "cls3=[];\n",
    "for i in range(len(X)):\n",
    "    cls3.append(math.sqrt(((centroids[2][0]-X[i][0])**2)+((centroids[2][1]-X[i][1])**2)))\n",
    "cls3 "
   ]
  },
  {
   "cell_type": "code",
   "execution_count": 57,
   "metadata": {},
   "outputs": [
    {
     "data": {
      "text/plain": [
       "[1, 1, 3, 1, 2, 1, 1, 3, 1, 1]"
      ]
     },
     "execution_count": 57,
     "metadata": {},
     "output_type": "execute_result"
    }
   ],
   "source": [
    "cls=[];\n",
    "for i in range(len(X)):\n",
    "    if (cls1[i]<cls2[i]) and (cls1[i]<cls3[i]):\n",
    "        cls.append(1);\n",
    "    elif (cls2[i]<cls1[i]) and (cls2[i]<cls3[i]):\n",
    "        cls.append(2);\n",
    "    else:\n",
    "        cls.append(3);\n",
    "cls\n",
    "      "
   ]
  },
  {
   "cell_type": "code",
   "execution_count": 59,
   "metadata": {},
   "outputs": [
    {
     "data": {
      "text/plain": [
       "[[5.171428571428572, 3.1714285714285713], [5.5, 4.2], [6.45, 2.95]]"
      ]
     },
     "execution_count": 59,
     "metadata": {},
     "output_type": "execute_result"
    }
   ],
   "source": [
    "c1=0\n",
    "c2=0\n",
    "c3=0\n",
    "c1x=0\n",
    "c1y=0\n",
    "c2x=0\n",
    "c2y=0\n",
    "c3x=0\n",
    "c3y=0\n",
    "for i in range(len(cls)):\n",
    "    if(cls[i]==1):\n",
    "        c1x+=X[i][0]\n",
    "        c1y+=X[i][1]\n",
    "        c1=c1+1\n",
    "    elif(cls[i]==2):\n",
    "        c2x+=X[i][0]\n",
    "        c2y+=X[i][1]\n",
    "        c2+=1\n",
    "    else:\n",
    "        c3x+=X[i][0]\n",
    "        c3y+=X[i][1]\n",
    "        c3+=1\n",
    "cent=[[0,0],[0,0],[0,0]]\n",
    "\n",
    "   \n",
    "cent[0][0]=c1x/c1\n",
    "cent[0][1]=c1y/c1;\n",
    "   \n",
    "cent[1][0]=c2x/c2;\n",
    "cent[1][1]=c2y/c2;\n",
    "   \n",
    "cent[2][0]=c3x/c3;\n",
    "cent[2][1]=c3y/c3;\n",
    "\n",
    "cent\n"
   ]
  },
  {
   "cell_type": "code",
   "execution_count": 60,
   "metadata": {},
   "outputs": [
    {
     "data": {
      "text/plain": [
       "[0.7291314374385627,\n",
       " 0.6326168521567014,\n",
       " 1.0935805262288363,\n",
       " 0.4722935787090441,\n",
       " 1.0797769988969663,\n",
       " 0.24243661069253067,\n",
       " 0.2806697529198356,\n",
       " 1.5302394103738226,\n",
       " 0.6326168521567009,\n",
       " 0.8461195939977624]"
      ]
     },
     "execution_count": 60,
     "metadata": {},
     "output_type": "execute_result"
    }
   ],
   "source": [
    "cls1=[];\n",
    "for i in range(len(X)):\n",
    "    cls1.append(math.sqrt(((cent[0][0]-X[i][0])**2)+((cent[0][1]-X[i][1])**2)))\n",
    "cls1    "
   ]
  },
  {
   "cell_type": "code",
   "execution_count": 62,
   "metadata": {},
   "outputs": [
    {
     "data": {
      "text/plain": [
       "[1.077032961426901,\n",
       " 1.58113883008419,\n",
       " 1.5652475842498532,\n",
       " 1.2806248474865696,\n",
       " 0.0,\n",
       " 1.3,\n",
       " 1.2529964086141667,\n",
       " 1.6278820596099708,\n",
       " 0.5656854249492386,\n",
       " 1.3]"
      ]
     },
     "execution_count": 62,
     "metadata": {},
     "output_type": "execute_result"
    }
   ],
   "source": [
    "cls2=[];\n",
    "for i in range(len(X)):\n",
    "    cls2.append(math.sqrt(((cent[1][0]-X[i][0])**2)+((cent[1][1]-X[i][1])**2)))\n",
    "cls2 "
   ]
  },
  {
   "cell_type": "code",
   "execution_count": 63,
   "metadata": {},
   "outputs": [
    {
     "data": {
      "text/plain": [
       "[0.6041522986797284,\n",
       " 1.8506755523321752,\n",
       " 0.2915475947422652,\n",
       " 1.7677669529663689,\n",
       " 1.5700318468107584,\n",
       " 1.450861812854691,\n",
       " 1.5572411502397434,\n",
       " 0.291547594742265,\n",
       " 1.595305613354382,\n",
       " 0.452769256906871]"
      ]
     },
     "execution_count": 63,
     "metadata": {},
     "output_type": "execute_result"
    }
   ],
   "source": [
    "cls3=[];\n",
    "for i in range(len(X)):\n",
    "    cls3.append(math.sqrt(((cent[2][0]-X[i][0])**2)+((cent[2][1]-X[i][1])**2)))\n",
    "cls3 "
   ]
  },
  {
   "cell_type": "code",
   "execution_count": 64,
   "metadata": {},
   "outputs": [
    {
     "data": {
      "text/plain": [
       "[3, 1, 3, 1, 2, 1, 1, 3, 2, 3]"
      ]
     },
     "execution_count": 64,
     "metadata": {},
     "output_type": "execute_result"
    }
   ],
   "source": [
    "cls=[];\n",
    "for i in range(len(X)):\n",
    "    if (cls1[i]<cls2[i]) and (cls1[i]<cls3[i]):\n",
    "        cls.append(1);\n",
    "    elif (cls2[i]<cls1[i]) and (cls2[i]<cls3[i]):\n",
    "        cls.append(2);\n",
    "    else:\n",
    "        cls.append(3);\n",
    "cls"
   ]
  },
  {
   "cell_type": "code",
   "execution_count": 65,
   "metadata": {},
   "outputs": [
    {
     "data": {
      "text/plain": [
       "[[4.800000000000001, 3.05], [5.3, 4.0], [6.2, 3.025]]"
      ]
     },
     "execution_count": 65,
     "metadata": {},
     "output_type": "execute_result"
    }
   ],
   "source": [
    "c1=0\n",
    "c2=0\n",
    "c3=0\n",
    "c1x=0\n",
    "c1y=0\n",
    "c2x=0\n",
    "c2y=0\n",
    "c3x=0\n",
    "c3y=0\n",
    "for i in range(len(cls)):\n",
    "    if(cls[i]==1):\n",
    "        c1x+=X[i][0]\n",
    "        c1y+=X[i][1]\n",
    "        c1=c1+1\n",
    "    elif(cls[i]==2):\n",
    "        c2x+=X[i][0]\n",
    "        c2y+=X[i][1]\n",
    "        c2+=1\n",
    "    else:\n",
    "        c3x+=X[i][0]\n",
    "        c3y+=X[i][1]\n",
    "        c3+=1\n",
    "    \n",
    "\n",
    "   \n",
    "cent[0][0]=c1x/c1\n",
    "cent[0][1]=c1y/c1;\n",
    "   \n",
    "cent[1][0]=c2x/c2;\n",
    "cent[1][1]=c2y/c2;\n",
    "   \n",
    "cent[2][0]=c3x/c3;\n",
    "cent[2][1]=c3y/c3;\n",
    "\n",
    "cent\n"
   ]
  }
 ],
 "metadata": {
  "kernelspec": {
   "display_name": "Python 3",
   "language": "python",
   "name": "python3"
  },
  "language_info": {
   "codemirror_mode": {
    "name": "ipython",
    "version": 3
   },
   "file_extension": ".py",
   "mimetype": "text/x-python",
   "name": "python",
   "nbconvert_exporter": "python",
   "pygments_lexer": "ipython3",
   "version": "3.7.3"
  }
 },
 "nbformat": 4,
 "nbformat_minor": 2
}
